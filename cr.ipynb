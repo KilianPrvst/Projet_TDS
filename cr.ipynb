{
 "cells": [
  {
   "cell_type": "code",
   "execution_count": 4,
   "metadata": {},
   "outputs": [],
   "source": [
    "import pickle\n",
    "import numpy as np\n",
    "import matplotlib.pyplot as plt\n",
    "import scipy\n",
    "from matplotlib import colors\n",
    "\n",
    "from scipy.io.wavfile import read\n",
    "from scipy.signal import spectrogram\n",
    "from skimage.feature import peak_local_max\n",
    "import random"
   ]
  },
  {
   "cell_type": "markdown",
   "metadata": {},
   "source": [
    "# Creation de l'algorithme de process"
   ]
  },
  {
   "cell_type": "code",
   "execution_count": 5,
   "metadata": {},
   "outputs": [],
   "source": [
    "# ----------------------------------------------------------------------------\n",
    "# Create a fingerprint for an audio file based on a set of hashes\n",
    "# ----------------------------------------------------------------------------\n",
    "\n",
    "\n",
    "class Encoding:\n",
    "\n",
    "    \"\"\"\n",
    "    Class implementing the procedure for creating a fingerprint \n",
    "    for the audio files\n",
    "\n",
    "    The fingerprint is created through the following steps\n",
    "    - compute the spectrogram of the audio signal\n",
    "    - extract local maxima of the spectrogram\n",
    "    - create hashes using these maxima\n",
    "\n",
    "    \"\"\"\n",
    "    def __init__(self):\n",
    "\n",
    "        \"\"\"\n",
    "        Class constructor\n",
    "\n",
    "        To Do\n",
    "        -----\n",
    "\n",
    "        Initialize in the constructor all the parameters required for\n",
    "        creating the signature of the audio files. These parameters include for\n",
    "        instance:\n",
    "        - the window selected for computing the spectrogram\n",
    "        - the size of the temporal window \n",
    "        - the size of the overlap between subsequent windows\n",
    "        - etc.\n",
    "\n",
    "        All these parameters should be kept as attributes of the class.\n",
    "        \"\"\"\n",
    "        \n",
    "        self.window = 128\n",
    "        self.noverlap = 32\n",
    "        self.t = []\n",
    "        self.f = []\n",
    "        self.hashes = []\n",
    "\n",
    "    def energie_min(self):     \n",
    "          \"\"\"\n",
    "      This function keeps the lowest number of values of the spectrogram necessary to retain 90% of the energy of the spectrogram.\n",
    "      \"\"\"\n",
    "\n",
    "          E_tot = np.sum(np.square(self.Sxx))\n",
    "          print(f\"l'énergie du signal est {E_tot}, le nombre de points est {np.prod(self.Sxx.shape)}\")\n",
    "          E = 0                                       \n",
    "          i = 1\n",
    "          while E < 0.90 * E_tot:             #We add the points of lowest frequency one after one until we reach 90% of the total energy.\n",
    "              E = np.sum(self.Sxx[:i] ** 2)   #The energy is calculated on the whole sample duration\n",
    "              i += 1\n",
    "          print(f\"la nouvelle énergie est {E}, soit {E/E_tot} % de la valeur initiale et le nombre de points est {np.product(self.Sxx[:i].shape)}\")\n",
    "  \n",
    "          self.Sxx = self.Sxx[:i]     \n",
    "          self.f = self.f[:i]                 #We consequently adjust the frequency axis.\n",
    "\n",
    "\n",
    "    def process(self,fs,s, start = 0, duration = None, delta_t = 1, distance = 40):\n",
    "\n",
    "        \"\"\"\n",
    "\n",
    "        To Do\n",
    "        -----\n",
    "\n",
    "        This function takes as input a sampled signal s and the sampling\n",
    "        frequency fs and returns the fingerprint (the hashcodes) of the signal.\n",
    "        The fingerprint is created through the following steps\n",
    "        - spectrogram computation\n",
    "        - local maxima extraction\n",
    "        - hashes creation\n",
    "\n",
    "        Implement all these operations in this function. Keep as attributes of\n",
    "        the class the spectrogram, the range of frequencies, the anchors, the \n",
    "        list of hashes, etc.\n",
    "\n",
    "        Each hash can conveniently be represented by a Python dictionary \n",
    "        containing the time associated to its anchor (key: \"t\") and a numpy \n",
    "        array with the difference in time between the anchor and the target, \n",
    "        the frequency of the anchor and the frequency of the target \n",
    "        (key: \"hash\")\n",
    "\n",
    "\n",
    "        Parameters\n",
    "        ----------\n",
    "\n",
    "        fs: int\n",
    "           sampling frequency [Hz]\n",
    "        s: numpy array\n",
    "           sampled signal\n",
    "        start : starting time of the sample\n",
    "        duration : duration of the sample \n",
    "        delta_t : highest time separating an anchor from its target\n",
    "        distance : lowest distance separating two maxima in the signal's constellation\n",
    "        \"\"\"\n",
    "\n",
    "        if duration != None : \n",
    "          s=s[start*fs : start*fs + duration*fs]\n",
    "        else :\n",
    "          s=s[start*fs :]\n",
    "        self.spectr = spectrogram(s,fs,nperseg = self.window,noverlap = self.noverlap)\n",
    "        self.f, self.t, self.Sxx = self.spectr\n",
    "        self.t = self.t + start   #adjusting the time axis\n",
    "        \n",
    "        self.energie_min()\n",
    "        \n",
    "        self.constellation_indices = peak_local_max(self.Sxx, min_distance=distance, exclude_border = False,indices = True) #Calculating the signal's constellation\n",
    "        t = self.t[self.constellation_indices[:,1]]\n",
    "        f = self.f[self.constellation_indices[:,0]]\n",
    "        n = len(t)\n",
    "        delta_f = 500     #defining the highest frequency separating an anchor from its target.\n",
    "\n",
    "        #creation of hashes : creates a dictionary where the keys are the times of the anchors, and the values are the time gap between the anchor and the target, and their frequencies.\n",
    "        self.hashes = {}\n",
    "        for a in range(n):\n",
    "          for i in range(a,n):\n",
    "            dt = t[i] - t[a]\n",
    "            if dt > 0 and dt <= delta_t and abs(f[a] - f[i]) <= delta_f:\n",
    "              self.hashes[str(t[a])] = np.array([dt,f[a],f[i]])\n",
    "\n",
    "\n",
    "    def display_spectrogram(self, display_anchors = True):\n",
    "\n",
    "       \"\"\"\n",
    "        Displays the signal's spectrogram.\n",
    "\n",
    "        Parameters \n",
    "        ----------\n",
    "        display_anchors : if True, displays the signal's constellation.\n",
    "        \"\"\"\n",
    "\n",
    "       plt.figure(figsize=(10,10))\n",
    "       plt.pcolormesh(self.t,self.f,self.Sxx, norm = colors.LogNorm())\n",
    "       if display_anchors :\n",
    "          t = self.t[self.constellation_indices[:,1]]\n",
    "          f = self.f[self.constellation_indices[:,0]]\n",
    "          plt.scatter(t,f,color = 'red', marker = 'o')\n",
    "    \n",
    "    # On teste quelle part de l'énergie et combien de maxima restent en augmentant la distance entre les maxima\n",
    "    def compare_distance(self):\n",
    "      \"\"\"\n",
    "      Tests what proportion of the energy and how many maxima remain when increasing the distance between the elements of the constellation.\n",
    "      \"\"\"\n",
    "      E_tot = np.sum(self.Sxx**2)\n",
    "      dist_list = [1,5,10,50,100,500,1000]\n",
    "      for distance in dist_list:\n",
    "        mask_maxi = peak_local_max(self.Sxx, min_distance=distance, exclude_border = False, indices = False)\n",
    "        constellation = self.Sxx[mask_maxi]\n",
    "        E = np.sum(constellation**2)\n",
    "        nb_max = np.sum(mask_maxi)\n",
    "        print(f\"distance : {distance}, énergie :{E/E_tot}%, nombre de maxima :{nb_max}\")\n",
    "\n"
   ]
  },
  {
   "cell_type": "markdown",
   "metadata": {},
   "source": [
    "## Visulisation du process"
   ]
  },
  {
   "cell_type": "code",
   "execution_count": 6,
   "metadata": {},
   "outputs": [
    {
     "name": "stdout",
     "output_type": "stream",
     "text": [
      "l'énergie du signal est 6667240472576.0, le nombre de points est 487435\n",
      "la nouvelle énergie est 6354910052352.0, soit 0.953154444694519 % de la valeur initiale et le nombre de points est 37495\n"
     ]
    },
    {
     "name": "stderr",
     "output_type": "stream",
     "text": [
      "c:\\Users\\antoi\\Anaconda3\\lib\\site-packages\\ipykernel_launcher.py:109: FutureWarning: indices argument is deprecated and will be removed in version 0.20. To avoid this warning, please do not use the indices argument. Please see peak_local_max documentation for more details.\n"
     ]
    },
    {
     "data": {
      "image/png": "[encoded data removed]",
      "text/plain": [
       "<Figure size 720x720 with 1 Axes>"
      ]
     },
     "metadata": {
      "needs_background": "light"
     },
     "output_type": "display_data"
    }
   ],
   "source": [
    "# ----------------------------------------------\n",
    "# Run the script\n",
    "# ----------------------------------------------\n",
    "encoder = Encoding()\n",
    "fs, s = read('samples\\Cash Machine - Anno Domini Beats.wav')\n",
    "encoder.process(fs,s,start = 50, duration = 10, delta_t = 1)\n",
    "encoder.display_spectrogram(display_anchors=True)"
   ]
  },
  {
   "cell_type": "markdown",
   "metadata": {},
   "source": [
    "On observe que seules quelques lignes sont suffisantes pour obtenir plus de 90% de l'énergie totale, tout en réduisant le nombre de données d'un ordre de grandeur ! \n",
    "\n",
    "Les points rouges correspondent à la constellation du signal, dans laquelle les ancres et les cibles sont choisies pour former les codes de hachage."
   ]
  },
  {
   "cell_type": "markdown",
   "metadata": {},
   "source": [
    "## Influence de la distance séparant les maxima"
   ]
  },
  {
   "cell_type": "code",
   "execution_count": 7,
   "metadata": {},
   "outputs": [
    {
     "name": "stderr",
     "output_type": "stream",
     "text": [
      "c:\\Users\\antoi\\Anaconda3\\lib\\site-packages\\ipykernel_launcher.py:149: FutureWarning: indices argument is deprecated and will be removed in version 0.20. To avoid this warning, please do not use the indices argument. Please see peak_local_max documentation for more details.\n"
     ]
    },
    {
     "name": "stdout",
     "output_type": "stream",
     "text": [
      "distance : 1, énergie :0.6614364981651306%, nombre de maxima :2807\n",
      "distance : 5, énergie :0.35975244641304016%, nombre de maxima :608\n",
      "distance : 10, énergie :0.2529222071170807%, nombre de maxima :299\n",
      "distance : 50, énergie :0.14259086549282074%, nombre de maxima :62\n",
      "distance : 100, énergie :0.117792047560215%, nombre de maxima :36\n",
      "distance : 500, énergie :0.04681452363729477%, nombre de maxima :7\n",
      "distance : 1000, énergie :0.028969954699277878%, nombre de maxima :4\n"
     ]
    }
   ],
   "source": [
    "encoder.compare_distance()"
   ]
  },
  {
   "cell_type": "markdown",
   "metadata": {},
   "source": [
    "Augmenter la distance permet de résumer l'information en quelques points. Une distance de 50 retient 14% de l'énergie avec une proportion de points inférieure au pourcent."
   ]
  },
  {
   "cell_type": "code",
   "execution_count": 8,
   "metadata": {},
   "outputs": [
    {
     "name": "stdout",
     "output_type": "stream",
     "text": [
      "l'énergie du signal est 6667240472576.0, le nombre de points est 487435\n",
      "la nouvelle énergie est 6354910052352.0, soit 0.953154444694519 % de la valeur initiale et le nombre de points est 37495\n",
      "nombre de codes de hachage pour une distance de 10 : 261\n",
      "l'énergie du signal est 6667240472576.0, le nombre de points est 487435\n"
     ]
    },
    {
     "name": "stderr",
     "output_type": "stream",
     "text": [
      "c:\\Users\\antoi\\Anaconda3\\lib\\site-packages\\ipykernel_launcher.py:109: FutureWarning: indices argument is deprecated and will be removed in version 0.20. To avoid this warning, please do not use the indices argument. Please see peak_local_max documentation for more details.\n"
     ]
    },
    {
     "name": "stdout",
     "output_type": "stream",
     "text": [
      "la nouvelle énergie est 6354910052352.0, soit 0.953154444694519 % de la valeur initiale et le nombre de points est 37495\n",
      "nombre de codes de hachage pour une distance de 40 : 46\n"
     ]
    },
    {
     "data": {
      "image/png": "[encoded data removed]",
      "text/plain": [
       "<Figure size 720x720 with 1 Axes>"
      ]
     },
     "metadata": {
      "needs_background": "light"
     },
     "output_type": "display_data"
    },
    {
     "data": {
      "image/png": "[encoded data removed]",
      "text/plain": [
       "<Figure size 720x720 with 1 Axes>"
      ]
     },
     "metadata": {
      "needs_background": "light"
     },
     "output_type": "display_data"
    }
   ],
   "source": [
    "encoder.process(fs,s,start = 50, duration = 10, delta_t = 1, distance = 10)\n",
    "encoder.display_spectrogram(display_anchors=True)\n",
    "plt.title(\"Ancres affichées pour une distance de 10\")\n",
    "print(f\"nombre de codes de hachage pour une distance de {10} : {len(encoder.hashes)}\")\n",
    "\n",
    "encoder.process(fs,s,start = 50, duration = 10, delta_t = 1, distance = 40)\n",
    "encoder.display_spectrogram(display_anchors=True)\n",
    "plt.title(\"Ancres affichées pour une distance de 40\")\n",
    "print(f\"nombre de codes de hachage pour une distance de {40} : {len(encoder.hashes)}\")\n"
   ]
  },
  {
   "cell_type": "markdown",
   "metadata": {},
   "source": [
    "Les zones contenant les maxima restent les mêmes, mais elles sont bien plus peuplées lorsque la distance est faible. Pour éviter d'avoir un trop grand nombre d'ancres et donc des parasites dans la reconnaissance, on prendra une distance de 40."
   ]
  },
  {
   "cell_type": "code",
   "execution_count": 9,
   "metadata": {},
   "outputs": [
    {
     "name": "stdout",
     "output_type": "stream",
     "text": [
      "l'énergie du signal est 106077102276608.0, le nombre de points est 7047300\n",
      "la nouvelle énergie est 96006737756160.0, soit 0.9050655961036682 % de la valeur initiale et le nombre de points est 433680\n"
     ]
    },
    {
     "name": "stderr",
     "output_type": "stream",
     "text": [
      "c:\\Users\\antoi\\Anaconda3\\lib\\site-packages\\ipykernel_launcher.py:109: FutureWarning: indices argument is deprecated and will be removed in version 0.20. To avoid this warning, please do not use the indices argument. Please see peak_local_max documentation for more details.\n"
     ]
    },
    {
     "name": "stdout",
     "output_type": "stream",
     "text": [
      "l'énergie du signal est 603253047296.0, le nombre de points est 8776690\n",
      "la nouvelle énergie est 578448982016.0, soit 0.9588828086853027 % de la valeur initiale et le nombre de points est 405078\n",
      "l'énergie du signal est 280463243476992.0, le nombre de points est 10774790\n",
      "la nouvelle énergie est 274322782420992.0, soit 0.9781060218811035 % de la valeur initiale et le nombre de points est 663064\n",
      "l'énergie du signal est 54121965027328.0, le nombre de points est 7909460\n",
      "la nouvelle énergie est 51523321069568.0, soit 0.9519854187965393 % de la valeur initiale et le nombre de points est 365052\n",
      "l'énergie du signal est 1124589895680.0, le nombre de points est 8072480\n",
      "la nouvelle énergie est 1045521170432.0, soit 0.9296910762786865 % de la valeur initiale et le nombre de points est 620960\n",
      "l'énergie du signal est 130549356167168.0, le nombre de points est 7750275\n",
      "la nouvelle énergie est 122977421099008.0, soit 0.9419994354248047 % de la valeur initiale et le nombre de points est 476940\n",
      "l'énergie du signal est 10600885256192.0, le nombre de points est 6881745\n",
      "la nouvelle énergie est 10310923583488.0, soit 0.9726474285125732 % de la valeur initiale et le nombre de points est 317619\n",
      "l'énergie du signal est 715982993620992.0, le nombre de points est 8994440\n",
      "la nouvelle énergie est 706447092482048.0, soit 0.9866814017295837 % de la valeur initiale et le nombre de points est 415128\n",
      "l'énergie du signal est 400682834198528.0, le nombre de points est 7246005\n",
      "la nouvelle énergie est 392844720209920.0, soit 0.9804381132125854 % de la valeur initiale et le nombre de points est 334431\n"
     ]
    }
   ],
   "source": [
    "\"\"\"\n",
    "Create a database containing the hashcodes of the songs stored \n",
    "in the specified folder (.wav files only). \n",
    "The database is saved as a pickle file as a list of dictionaries.\n",
    "Each dictionary has two keys 'song' and 'hashcodes', corresponding \n",
    "to the name of the song and to the hashcodes used as signature for \n",
    "the matching algorithm.\n",
    "\"\"\"\n",
    "\n",
    "from concurrent.futures import process\n",
    "import numpy as np\n",
    "import matplotlib.pyplot as plt\n",
    "\n",
    "from scipy.io.wavfile import read\n",
    "# from algorithm import *\n",
    "\n",
    "\n",
    "# ----------------------------------------------\n",
    "# Run the script\n",
    "# ----------------------------------------------\n",
    "if __name__ == '__main__':\n",
    "\n",
    "    folder = './samples/'\n",
    "\n",
    "    # 1: Load the audio files\n",
    "    import os\n",
    "    audiofiles = os.listdir(folder)\n",
    "    audiofiles = [item for item in audiofiles if item[-4:] =='.wav']\n",
    "\n",
    "    # 2: Set the parameters of the encoder\n",
    "    # Insert your code here\n",
    "    coder = Encoding()\n",
    "    delta_t = 1\n",
    "    distance=40\n",
    "    table_fs_s = {}\n",
    "    for filename in audiofiles :\n",
    "        fs, s = read(f\"samples/{filename}\") \n",
    "        table_fs_s[filename] = [fs, s]\n",
    "    start = 50 # We select an extract starting at 50s ...\n",
    "    duration = 10 # ... which lasts 10s\n",
    "    \n",
    "    # 3: Construct the database\n",
    "    database = {}\n",
    "    # Insert your code here\n",
    "    for key in table_fs_s:\n",
    "        fs, s = table_fs_s[key]\n",
    "        coder.process(fs,s,delta_t=delta_t,distance=distance)\n",
    "        database[key] = (coder.hashes)\n",
    "\n",
    "    # 4: Save the database\n",
    "    with open('songs.pickle', 'wb') as handle:\n",
    "        pickle.dump(database, handle, protocol=pickle.HIGHEST_PROTOCOL)\n"
   ]
  },
  {
   "cell_type": "markdown",
   "metadata": {},
   "source": [
    "# Implémentation du matching"
   ]
  },
  {
   "cell_type": "code",
   "execution_count": 84,
   "metadata": {},
   "outputs": [],
   "source": [
    "# ----------------------------------------------------------------------------\n",
    "# Compares two set of hashes in order to determine if two audio files match\n",
    "# ----------------------------------------------------------------------------\n",
    "\n",
    "class Matching:\n",
    "\n",
    "    \"\"\"\n",
    "    Compare the hashes from two audio files to determine if these\n",
    "    files match\n",
    "\n",
    "    Attributes\n",
    "    ----------\n",
    "\n",
    "    hashes1: list of dictionaries\n",
    "       hashes extracted as fingerprints for the first audiofile. Each hash \n",
    "       is represented by a dictionary containing the time associated to\n",
    "       its anchor (key: \"t\") and a numpy array with the difference in time\n",
    "       between the anchor and the target, the frequency of the anchor and\n",
    "       the frequency of the target (key: \"hash\")\n",
    "\n",
    "    hashes2: list of dictionaries\n",
    "       hashes extracted as fingerprint for the second audiofile. Each hash \n",
    "       is represented by a dictionary containing the time associated to\n",
    "       its anchor (key: \"t\") and a numpy array with the difference in time\n",
    "       between the anchor and the target, the frequency of the anchor and\n",
    "       the frequency of the target (key: \"hash\")\n",
    "\n",
    "    matching: numpy array\n",
    "       absolute times of the hashes that match together\n",
    "\n",
    "    offset: numpy array\n",
    "       time offsets between the matches\n",
    "    \"\"\"\n",
    "\n",
    "    def __init__(self, hashes1, hashes2):\n",
    "\n",
    "        \"\"\"\n",
    "        Class constructor\n",
    "\n",
    "        Compare the hashes from two audio files to determine if these\n",
    "        files match\n",
    "\n",
    "        To Do\n",
    "        -----\n",
    "\n",
    "        Implement a code establishing correspondences between the hashes of\n",
    "        both files. Once the correspondences computed, construct the \n",
    "        histogram of the offsets between hashes. Finally, search for a criterion\n",
    "        based on the histogram that allows to determine if both audio files \n",
    "        match\n",
    "\n",
    "        Parameters\n",
    "        ----------\n",
    "\n",
    "        hashes1: list of dictionaries\n",
    "           hashes extracted as fingerprint for the first audiofile. Each hash \n",
    "           is represented by a dictionary containing the time associated to\n",
    "           its anchor (key: \"t\") and a numpy array with the difference in time\n",
    "           between the anchor and the target, the frequency of the anchor and\n",
    "           the frequency of the target\n",
    "\n",
    "        hashes2: list of dictionaries\n",
    "           hashes extracted as fingerprint for the second audiofile. Each hash \n",
    "           is represented by a dictionary containing the time associated to\n",
    "           its anchor (key: \"t\") and a numpy array with the difference in time\n",
    "           between the anchor and the target, the frequency of the anchor and\n",
    "           the frequency of the target\n",
    "        \"\"\"\n",
    "\n",
    "\n",
    "        key1 = hashes1.keys()\n",
    "        key2 = hashes2.keys()\n",
    "        self.time_cloud = [[],[]]\n",
    "        for k1 in key1:\n",
    "           for k2 in key2:\n",
    "              if not (hashes1[k1] - hashes2[k2]).sum(): #The times \"ta\" of both hashes are displayed only if their associated values are equal\n",
    "                 self.time_cloud[0].append(float(k1))\n",
    "                 self.time_cloud[1].append(float(k2))\n",
    "        self.time_cloud = np.array(self.time_cloud)\n",
    "    def display_scatterplot(self):\n",
    "       \"\"\"\n",
    "        Display through a scatterplot the times associated to the hashes\n",
    "        that match\n",
    "        \"\"\"\n",
    "\n",
    "       plt.scatter(self.time_cloud[0],self.time_cloud[1])\n",
    "       #we display the line on which anchors should be aligned if the song and the extract are indeed the same :\n",
    "       plt.plot(np.linspace(max([min(self.time_cloud[0]),min(self.time_cloud[1])]),min([max(self.time_cloud[0]),max(self.time_cloud[1])]),100),np.linspace(max([min(self.time_cloud[0]),min(self.time_cloud[1])]),min([max(self.time_cloud[0]),max(self.time_cloud[1])]),100),c='r')\n",
    "       plt.show()\n",
    "       return self.time_cloud\n",
    "\n",
    "\n",
    "    def display_histogram(self):\n",
    "\n",
    "        \"\"\"\n",
    "        Display the offset histogram\n",
    "        \"\"\"\n",
    "        diff = self.time_cloud[1] - self.time_cloud[0]\n",
    "        plt.hist(diff,density=True)\n",
    "        plt.show()\n",
    "\n",
    "    def test(self):\n",
    "        \"\"\"\n",
    "        Returns True if the extract and the song match\n",
    "        \"\"\"\n",
    "        hist = plt.hist(self.time_cloud[1] - self.time_cloud[0])\n",
    "        plt.close()\n",
    "        bars = dict(zip(hist[1],hist[0]))\n",
    "        #On choisit la barre de l'histogramme qui contient la valeur 0\n",
    "        key_zero = min(bars.keys())\n",
    "        for ind,key in enumerate(bars.keys()):\n",
    "            if abs(key) < abs(key_zero):\n",
    "               key_zero = key\n",
    "               i = ind\n",
    "        if key_zero > 0 :\n",
    "         key_zero = list(bars.keys())[i-1]\n",
    "\n",
    "        val_zero = bars[key_zero]\n",
    "        bars[key_zero] = 0\n",
    "        other = max(bars.values())\n",
    "        if val_zero > 1.5*other: #on vérifie que la barre à 0 est prépondérante\n",
    "         return True\n",
    "        return False\n",
    "\n",
    "    def matching(self, plot = True):\n",
    "      if plot :\n",
    "         self.display_scatterplot()\n",
    "         self.display_histogram()\n",
    "         \n",
    "      return(self.test())\n"
   ]
  },
  {
   "cell_type": "markdown",
   "metadata": {},
   "source": [
    "# Test avec un extrait dupliqué"
   ]
  },
  {
   "cell_type": "code",
   "execution_count": 85,
   "metadata": {},
   "outputs": [
    {
     "name": "stdout",
     "output_type": "stream",
     "text": [
      "l'énergie du signal est 6667240472576.0, le nombre de points est 487435\n",
      "la nouvelle énergie est 6354910052352.0, soit 0.953154444694519 % de la valeur initiale et le nombre de points est 37495\n",
      "l'énergie du signal est 6667240472576.0, le nombre de points est 487435\n",
      "la nouvelle énergie est 6354910052352.0, soit 0.953154444694519 % de la valeur initiale et le nombre de points est 37495\n"
     ]
    },
    {
     "name": "stderr",
     "output_type": "stream",
     "text": [
      "c:\\Users\\antoi\\Anaconda3\\lib\\site-packages\\ipykernel_launcher.py:109: FutureWarning: indices argument is deprecated and will be removed in version 0.20. To avoid this warning, please do not use the indices argument. Please see peak_local_max documentation for more details.\n"
     ]
    }
   ],
   "source": [
    "s,fs = read(\"samples\\Cash Machine - Anno Domini Beats.wav\")\n",
    "s2, fs2 = s,fs\n",
    "dt = 1\n",
    "encoder2 = Encoding()\n",
    "encoder2.process(s,fs,start=50,duration=10,delta_t=dt)\n",
    "hashes_1 = encoder2.hashes\n",
    "\n",
    "encoder2.process(s2,fs2,start=50,duration=10,delta_t=dt)\n",
    "hashes_2 = encoder2.hashes"
   ]
  },
  {
   "cell_type": "code",
   "execution_count": 86,
   "metadata": {},
   "outputs": [
    {
     "data": {
      "image/png": "[encoded data removed]",
      "text/plain": [
       "<Figure size 432x288 with 1 Axes>"
      ]
     },
     "metadata": {
      "needs_background": "light"
     },
     "output_type": "display_data"
    },
    {
     "data": {
      "image/png": "[encoded data removed]",
      "text/plain": [
       "<Figure size 432x288 with 1 Axes>"
      ]
     },
     "metadata": {
      "needs_background": "light"
     },
     "output_type": "display_data"
    },
    {
     "data": {
      "text/plain": [
       "True"
      ]
     },
     "execution_count": 86,
     "metadata": {},
     "output_type": "execute_result"
    }
   ],
   "source": [
    "match = Matching(hashes_1, hashes_2)\n",
    "match.matching()"
   ]
  },
  {
   "cell_type": "markdown",
   "metadata": {},
   "source": [
    "Lorsque l'extrait correspond au morceau, les ancres dont les valeurs sont les mêmes correspondent au même temps : le nuage de point forme une droite d'équation $x = x$ ."
   ]
  },
  {
   "cell_type": "markdown",
   "metadata": {},
   "source": [
    "# Test avec un extrait d'un morceau"
   ]
  },
  {
   "cell_type": "code",
   "execution_count": 87,
   "metadata": {},
   "outputs": [
    {
     "name": "stdout",
     "output_type": "stream",
     "text": [
      "l'énergie du signal est 106077102276608.0, le nombre de points est 7047300\n",
      "la nouvelle énergie est 96006737756160.0, soit 0.9050655961036682 % de la valeur initiale et le nombre de points est 433680\n"
     ]
    },
    {
     "name": "stderr",
     "output_type": "stream",
     "text": [
      "c:\\Users\\antoi\\Anaconda3\\lib\\site-packages\\ipykernel_launcher.py:109: FutureWarning: indices argument is deprecated and will be removed in version 0.20. To avoid this warning, please do not use the indices argument. Please see peak_local_max documentation for more details.\n"
     ]
    },
    {
     "name": "stdout",
     "output_type": "stream",
     "text": [
      "l'énergie du signal est 6667240472576.0, le nombre de points est 487435\n",
      "la nouvelle énergie est 6354910052352.0, soit 0.953154444694519 % de la valeur initiale et le nombre de points est 37495\n"
     ]
    }
   ],
   "source": [
    "s,fs = read(\"samples\\Cash Machine - Anno Domini Beats.wav\")\n",
    "s2, fs2 = s,fs\n",
    "\n",
    "encoder2 = Encoding()\n",
    "encoder2.process(s,fs,distance = distance,delta_t=delta_t)\n",
    "hashes_1 = encoder2.hashes\n",
    "\n",
    "encoder2.process(s2,fs2,start=50,duration=10,distance = distance,delta_t=delta_t)\n",
    "hashes_2 = encoder2.hashes"
   ]
  },
  {
   "cell_type": "code",
   "execution_count": 88,
   "metadata": {},
   "outputs": [
    {
     "data": {
      "image/png": "[encoded data removed]",
      "text/plain": [
       "<Figure size 432x288 with 1 Axes>"
      ]
     },
     "metadata": {
      "needs_background": "light"
     },
     "output_type": "display_data"
    },
    {
     "data": {
      "image/png": "[encoded data removed]",
      "text/plain": [
       "<Figure size 432x288 with 1 Axes>"
      ]
     },
     "metadata": {
      "needs_background": "light"
     },
     "output_type": "display_data"
    },
    {
     "data": {
      "text/plain": [
       "True"
      ]
     },
     "execution_count": 88,
     "metadata": {},
     "output_type": "execute_result"
    }
   ],
   "source": [
    "match = Matching(hashes_1, hashes_2)\n",
    "match.matching()"
   ]
  },
  {
   "cell_type": "markdown",
   "metadata": {},
   "source": [
    "L'algorithme fonctionne aussi en comparant l'extrait avec le morceau entier. On constate un pic très net d'abscisse 0 sur l'histogramme, caractéristique de la correspondance des morceaux. On peut proposer comme critère que cette barre soit 1.5 fois plus grande que la seconde plus grande."
   ]
  },
  {
   "cell_type": "code",
   "execution_count": 89,
   "metadata": {},
   "outputs": [
    {
     "name": "stdout",
     "output_type": "stream",
     "text": [
      "l'énergie du signal est 106077102276608.0, le nombre de points est 7047300\n",
      "la nouvelle énergie est 96006737756160.0, soit 0.9050655961036682 % de la valeur initiale et le nombre de points est 433680\n"
     ]
    },
    {
     "name": "stderr",
     "output_type": "stream",
     "text": [
      "c:\\Users\\antoi\\Anaconda3\\lib\\site-packages\\ipykernel_launcher.py:109: FutureWarning: indices argument is deprecated and will be removed in version 0.20. To avoid this warning, please do not use the indices argument. Please see peak_local_max documentation for more details.\n"
     ]
    },
    {
     "name": "stdout",
     "output_type": "stream",
     "text": [
      "l'énergie du signal est 8045891944448.0, le nombre de points est 487435\n",
      "la nouvelle énergie est 7470720221184.0, soit 0.9285135865211487 % de la valeur initiale et le nombre de points est 29996\n"
     ]
    }
   ],
   "source": [
    "s,fs = read(\"samples\\Cash Machine - Anno Domini Beats.wav\")\n",
    "s2, fs2 = read(\"samples\\Late Truth - Audio Hertz.wav\")\n",
    "\n",
    "encoder2 = Encoding()\n",
    "encoder2.process(s,fs,distance = distance,delta_t=delta_t)\n",
    "hashes_1 = encoder2.hashes\n",
    "\n",
    "encoder2.process(s2,fs2,start=50,duration=10,distance = distance,delta_t=delta_t)\n",
    "hashes_2 = encoder2.hashes"
   ]
  },
  {
   "cell_type": "code",
   "execution_count": 90,
   "metadata": {},
   "outputs": [
    {
     "data": {
      "image/png": "[encoded data removed]",
      "text/plain": [
       "<Figure size 432x288 with 1 Axes>"
      ]
     },
     "metadata": {
      "needs_background": "light"
     },
     "output_type": "display_data"
    },
    {
     "data": {
      "image/png": "[encoded data removed]",
      "text/plain": [
       "<Figure size 432x288 with 1 Axes>"
      ]
     },
     "metadata": {
      "needs_background": "light"
     },
     "output_type": "display_data"
    },
    {
     "data": {
      "text/plain": [
       "False"
      ]
     },
     "execution_count": 90,
     "metadata": {},
     "output_type": "execute_result"
    }
   ],
   "source": [
    "match = Matching(hashes_1, hashes_2)\n",
    "match.matching()"
   ]
  },
  {
   "cell_type": "markdown",
   "metadata": {},
   "source": [
    "Lorsqu'il n'y a pas correspondance, les points et les pics sont aléatoirement répartis."
   ]
  },
  {
   "cell_type": "markdown",
   "metadata": {},
   "source": [
    "# Test sur toute la base de donnée\n",
    "On choisit un extrait aléatoire auquel on veut associer un morceau de la base de donnée. Il est possible d'afficher les plots en changeant à la dernière ligne \"plot = True\"."
   ]
  },
  {
   "cell_type": "code",
   "execution_count": 93,
   "metadata": {},
   "outputs": [
    {
     "name": "stdout",
     "output_type": "stream",
     "text": [
      "Selected song: Lightfoot - Aaron Lieberman\n",
      "l'énergie du signal est 1081352716288.0, le nombre de points est 487435\n",
      "la nouvelle énergie est 1044599144448.0, soit 0.9660114645957947 % de la valeur initiale et le nombre de points est 22497\n",
      "Correspondance avec Cash Machine - Anno Domini Beats.wav: False\n"
     ]
    },
    {
     "name": "stderr",
     "output_type": "stream",
     "text": [
      "c:\\Users\\antoi\\Anaconda3\\lib\\site-packages\\ipykernel_launcher.py:109: FutureWarning: indices argument is deprecated and will be removed in version 0.20. To avoid this warning, please do not use the indices argument. Please see peak_local_max documentation for more details.\n"
     ]
    },
    {
     "name": "stdout",
     "output_type": "stream",
     "text": [
      "Correspondance avec Dark Alley Deals - Aaron Kenny.wav: False\n",
      "Correspondance avec Frisk - Au.Ra.wav: False\n",
      "Correspondance avec In The Throes - Asher Fulero.wav: False\n",
      "Correspondance avec Jal - Edge of Water - Aakash Gandhi.wav: False\n",
      "Correspondance avec Late Truth - Audio Hertz.wav: False\n",
      "Correspondance avec Lightfoot - Aaron Lieberman.wav: True\n",
      "Correspondance avec Lucid Haze - Amulets.wav: False\n",
      "Correspondance avec Open Highway - ALBIS.wav: False\n"
     ]
    }
   ],
   "source": [
    "# 1: Load the database\n",
    "with open('songs.pickle', 'rb') as handle:\n",
    "    database = pickle.load(handle)\n",
    "\n",
    "# 2: Create an instance of the class Encoder\n",
    "encoder = Encoding()\n",
    "\n",
    "# 3: Randomly get an extract from one of the songs of the database\n",
    "songs = [item for item in os.listdir('./samples') if item[:-4] != '.wav']\n",
    "song = random.choice(songs)\n",
    "print('Selected song: ' + song[:-4])\n",
    "filename = './samples/' + song\n",
    "\n",
    "fs, s = read(filename)\n",
    "start = 50 # We select an extract starting at 50s ...\n",
    "duration = 10 # ... which lasts 10s\n",
    "delta_t = 1\n",
    "\n",
    "# 4: Use the encoder to extract a fingerprint of the sample\n",
    "encoder.process(fs, s, start=start, duration=duration,distance=distance,delta_t=delta_t)\n",
    "hashes = encoder.hashes\n",
    "\n",
    "# 5: Using the class Matching, compare the fingerprint to all the \n",
    "# fingerprints in the database\n",
    "for key, hash in database.items() :\n",
    "    match = Matching(hash, hashes)\n",
    "    plt.title(key)\n",
    "    print(f\"Correspondance avec {key}: {match.matching(plot=False)}\")     "
   ]
  }
 ],
 "metadata": {
  "interpreter": {
   "hash": "bf4d998866e74cf3ba384edc752c057d5dbca63f984898d0c95f8cebebbca144"
  },
  "kernelspec": {
   "display_name": "Python 3.7.13 ('base')",
   "language": "python",
   "name": "python3"
  },
  "language_info": {
   "codemirror_mode": {
    "name": "ipython",
    "version": 3
   },
   "file_extension": ".py",
   "mimetype": "text/x-python",
   "name": "python",
   "nbconvert_exporter": "python",
   "pygments_lexer": "ipython3",
   "version": "3.7.13"
  },
  "orig_nbformat": 4
 },
 "nbformat": 4,
 "nbformat_minor": 2
}
